{
 "cells": [
  {
   "cell_type": "markdown",
   "metadata": {},
   "source": [
    "# Robust nonlinear regression in scipy\n",
    "TAGS: Optimization and fitting\n",
    "\n",
    "AUTHORS: Nikolay Mayorov"
   ]
  },
  {
   "cell_type": "markdown",
   "metadata": {},
   "source": [
    "One of the main applications of nonlinear least squares is nonlinear regression or curve fitting. That is by given pairs $\\left\\{ (t_i, y_i) \\: i = 1, \\ldots, n \\right\\}$ estimate parameters $\\mathbf{x}$ defining a nonlinear function $\\varphi(t; \\mathbf{x})$, assuming the model:\n",
    "\\begin{equation}\n",
    "y_i = \\varphi(t_i; \\mathbf{x}) + \\epsilon_i\n",
    "\\end{equation}"
   ]
  },
  {
   "cell_type": "markdown",
   "metadata": {},
   "source": [
    "Where $\\epsilon_i$ is the measurement (observation) errors. In the least-squares estimation we search $\\mathbf{x}$ as the solution of the following optimization problem:\n",
    "\\begin{equation}\n",
    "\\frac{1}{2} \\sum_{i=1}^n (\\varphi(t_i; \\mathbf{x}) - y_i)^2 \\rightarrow \\min_\\mathbf{x}\n",
    "\\end{equation}"
   ]
  },
  {
   "cell_type": "markdown",
   "metadata": {},
   "source": [
    "Such formulation is intuitive and convinient from mathematical point of view. From the probabilistic point of view the least-squares solution is known to be the [maximum likelihood](https://en.wikipedia.org/wiki/Maximum_likelihood) estimate, provided that all $\\epsilon_i$ are independent and normally distributed random variables."
   ]
  },
  {
   "cell_type": "markdown",
   "metadata": {},
   "source": [
    "So theoretically it is not optimal when $\\epsilon_i$ have distribution other than normal. Although in engineering practice it is usally not important, i.e. if errors behave as some reasonable random variables with zero mean a result of least-squares estimation will be satisfactory."
   ]
  },
  {
   "cell_type": "markdown",
   "metadata": {},
   "source": [
    "The real problems start when data is contaminated by outliers (completly wrong measurements). In this case the least-squares solution can become significantly biased to avoid very high residuals on outliers. To qualitatively explain why it is happening, let's consider the simplest least-squares problem:\n",
    "\\begin{align}\n",
    "\\frac{1}{2} \\sum_{i=1}^n (a - x_i)^2 \\rightarrow \\min_a\n",
    "\\end{align}\n",
    "And the solution is the mean value:\n",
    "\\begin{align}\n",
    "a^* = \\frac{1}{n} \\sum_{i=1}^n x_i\n",
    "\\end{align}"
   ]
  },
  {
   "cell_type": "markdown",
   "metadata": {},
   "source": [
    "Now imagine: $a = 1, n=4, x_1 = 0.9, x_2 = 1.05, x_3=0.95, x_4=10 \\text{ (outlier) }$. The solution $a^* = 3.225$, i.e. completely ruined by a single outlier."
   ]
  },
  {
   "cell_type": "markdown",
   "metadata": {},
   "source": [
    "One of the well known robust estimators is l1-estimator, in which the sum of absolute values of the residuals is minimized. For demonstration, again consider the simplest problem:\n",
    "\\begin{equation}\n",
    "\\sum_{i=1}^n |a - x_i| \\rightarrow \\min_a\n",
    "\\end{equation}"
   ]
  },
  {
   "cell_type": "markdown",
   "metadata": {},
   "source": [
    "And the well-known solution is the [median](https://en.wikipedia.org/wiki/Median) of $\\{x_i\\}$, such that the small number of outliers won't affect the solution. In our toy problem we have $a^* = 1$. "
   ]
  },
  {
   "cell_type": "markdown",
   "metadata": {},
   "source": [
    "The only disadvantage of l1-estimator is that arising optimization problem is hard, as the function is nondifferentiable everywhere, which is particularly troublesome for efficient nonlinear optimization. It means that we are better to stay with differentiable problems, but somehow incorporate robustness in estimation. To accomplish this we introduce a sublinear function $\\rho(z)$ (i.e. its growth should be slower than linear) and formulate a new least-squares-like optimization problem:\n",
    "\\begin{equation}\n",
    "\\frac{1}{2} \\sum_{i=1}^n \\rho \\left((\\varphi(t_i; x) - y_i)^2 \\right) \\rightarrow \\min_x\n",
    "\\end{equation}"
   ]
  },
  {
   "cell_type": "markdown",
   "metadata": {},
   "source": [
    "Turns out that this problem can be reduced to standard nonlinear least squares by modifying a vector of residuals and Jacobian matrix on each iteration, such that computed gradient and Hessian approximation match the ones of the objective function. Refer to the [paper](http://link.springer.com/chapter/10.1007%2F3-540-44480-7_21) for details."
   ]
  },
  {
   "cell_type": "markdown",
   "metadata": {},
   "source": [
    "The implemented choices of $\\rho$ are the following:"
   ]
  },
  {
   "cell_type": "markdown",
   "metadata": {},
   "source": [
    "1. Linear functior which gives a standard least squares: $\\rho(z) = z$.\n",
    "2. [Huber loss](https://en.wikipedia.org/wiki/Huber_loss): $\\rho(z) = \\begin{cases} \n",
    "z & z \\leq 1 \\\\\n",
    "2 \\sqrt{z} - 1 & z > 1\n",
    "\\end{cases}$\n",
    "3. Smooth approximation to absolute value loss, \"soft l1 loss\": $\\rho(z) = 2 (\\sqrt{1 + z} - 1)$\n",
    "4. Cauchy loss: $\\rho(z) = \\ln(1 + z)$.\n",
    "5. Loss by arctan: $\\rho(z) = \\arctan z$."
   ]
  },
  {
   "cell_type": "markdown",
   "metadata": {},
   "source": [
    "The functions 2 and 3 are relatively mild and give approximately absolute value loss for large residuals. The last two functions are strongly sublinear and give significant attenuation for outliers."
   ]
  },
  {
   "cell_type": "markdown",
   "metadata": {},
   "source": [
    "The loss functions above are written with the assumption that the soft threshold between inliners and outliers is equal to 1.0. To generalize, we introduce the scaling parameter $C$ and evaluate the loss as \n",
    "\\begin{equation}\n",
    "\\hat{\\rho}(r^2) = C^2 \\rho \\left( \\left(\\frac{r}{C} \\right)^2 \\right)\n",
    "\\end{equation}\n",
    "\n",
    "Note that if residuals are small, we have $\\hat{\\rho}(r^2) \\approx \\rho(r^2) \\approx r^2$ for any $\\rho(z)$ defined above."
   ]
  },
  {
   "cell_type": "markdown",
   "metadata": {},
   "source": [
    "To illustrate the behaviour of the introduced functions we build a plot:"
   ]
  },
  {
   "cell_type": "code",
   "execution_count": 1,
   "metadata": {
    "collapsed": false
   },
   "outputs": [],
   "source": [
    "import numpy as np\n",
    "\n",
    "%matplotlib inline\n",
    "import matplotlib.pyplot as plt\n",
    "\n",
    "from matplotlib import rcParams\n",
    "rcParams['figure.figsize'] = (10, 6)\n",
    "rcParams['legend.fontsize'] = 16\n",
    "rcParams['axes.labelsize'] = 16"
   ]
  },
  {
   "cell_type": "code",
   "execution_count": 2,
   "metadata": {
    "collapsed": false
   },
   "outputs": [],
   "source": [
    "r = np.linspace(0, 5, 100)\n",
    "\n",
    "linear = r**2\n",
    "\n",
    "huber = r**2\n",
    "huber[huber > 1] = 2 * r[huber > 1] - 1\n",
    "\n",
    "soft_l1 = 2 * (np.sqrt(1 + r**2) - 1)\n",
    "\n",
    "cauchy = np.log1p(r**2)\n",
    "\n",
    "arctan = np.arctan(r**2)"
   ]
  },
  {
   "cell_type": "code",
   "execution_count": 3,
   "metadata": {
    "collapsed": false
   },
   "outputs": [
    {
     "data": {
      "text/plain": [
       "<matplotlib.legend.Legend at 0x1058c1ef0>"
      ]
     },
     "execution_count": 3,
     "metadata": {},
     "output_type": "execute_result"
    },
    {
     "data": {
      "image/png": "[encoded data removed]",
      "text/plain": [
       "<matplotlib.figure.Figure at 0x1056d6438>"
      ]
     },
     "metadata": {},
     "output_type": "display_data"
    }
   ],
   "source": [
    "plt.plot(r, linear, label='linear')\n",
    "plt.plot(r, huber, label='huber')\n",
    "plt.plot(r, soft_l1, label='soft_l1')\n",
    "plt.plot(r, cauchy, label='cauchy')\n",
    "plt.plot(r, arctan, label='arctan')\n",
    "plt.xlabel(\"$r$\")\n",
    "plt.ylabel(r\"$\\rho(r^2)$\")\n",
    "plt.legend(loc='upper left')"
   ]
  },
  {
   "cell_type": "markdown",
   "metadata": {},
   "source": [
    "-----------------"
   ]
  },
  {
   "cell_type": "markdown",
   "metadata": {},
   "source": [
    "Now we will show how robust loss functions work on a model example. We define the model function as \n",
    "\\begin{equation}\n",
    "f(t; A, \\sigma, \\omega) = A e^{-\\sigma t} \\sin (\\omega t)\n",
    "\\end{equation}"
   ]
  },
  {
   "cell_type": "markdown",
   "metadata": {},
   "source": [
    "Which can model a observed displacement of a linear damped oscillator."
   ]
  },
  {
   "cell_type": "markdown",
   "metadata": {},
   "source": [
    "Define data generator:"
   ]
  },
  {
   "cell_type": "code",
   "execution_count": 4,
   "metadata": {
    "collapsed": true
   },
   "outputs": [],
   "source": [
    "def generate_data(t, A, sigma, omega, noise=0, n_outliers=0, random_state=0):\n",
    "    y = A * np.exp(-sigma * t) * np.sin(omega * t)\n",
    "    rnd = np.random.RandomState(random_state)\n",
    "    error = noise * rnd.randn(t.size)\n",
    "    outliers = rnd.randint(0, t.size, n_outliers)\n",
    "    error[outliers] *= 35\n",
    "    return y + error"
   ]
  },
  {
   "cell_type": "markdown",
   "metadata": {},
   "source": [
    "Define model parameters:"
   ]
  },
  {
   "cell_type": "code",
   "execution_count": 5,
   "metadata": {
    "collapsed": false
   },
   "outputs": [],
   "source": [
    "A = 2\n",
    "sigma = 0.1\n",
    "omega = 0.1 * 2 * np.pi\n",
    "x_true = np.array([A, sigma, omega])\n",
    "\n",
    "noise = 0.1\n",
    "\n",
    "t_min = 0\n",
    "t_max = 30"
   ]
  },
  {
   "cell_type": "markdown",
   "metadata": {},
   "source": [
    "Data for fitting the parameters will contain 3 outliers:"
   ]
  },
  {
   "cell_type": "code",
   "execution_count": 6,
   "metadata": {
    "collapsed": false
   },
   "outputs": [],
   "source": [
    "t_train = np.linspace(t_min, t_max, 30)\n",
    "y_train = generate_data(t_train, A, sigma, omega, noise=noise, n_outliers=4)"
   ]
  },
  {
   "cell_type": "markdown",
   "metadata": {},
   "source": [
    "Define the function computing residuals for least-squares minimization:"
   ]
  },
  {
   "cell_type": "code",
   "execution_count": 7,
   "metadata": {
    "collapsed": true
   },
   "outputs": [],
   "source": [
    "def fun(x, t, y):\n",
    "    return x[0] * np.exp(-x[1] * t) * np.sin(x[2] * t) - y"
   ]
  },
  {
   "cell_type": "markdown",
   "metadata": {},
   "source": [
    "Use all ones as the initial estimate."
   ]
  },
  {
   "cell_type": "code",
   "execution_count": 8,
   "metadata": {
    "collapsed": true
   },
   "outputs": [],
   "source": [
    "x0 = np.ones(3)"
   ]
  },
  {
   "cell_type": "code",
   "execution_count": 9,
   "metadata": {
    "collapsed": true
   },
   "outputs": [],
   "source": [
    "from scipy.optimize import least_squares"
   ]
  },
  {
   "cell_type": "markdown",
   "metadata": {},
   "source": [
    "Run standard least squares:"
   ]
  },
  {
   "cell_type": "code",
   "execution_count": 10,
   "metadata": {
    "collapsed": true
   },
   "outputs": [],
   "source": [
    "res_lsq = least_squares(fun, x0, args=(t_train, y_train))"
   ]
  },
  {
   "cell_type": "markdown",
   "metadata": {},
   "source": [
    "Run robust least squares with `loss='soft_l1'`, set `f_scale` to 0.1 which means that inlier residuals are approximately lower than 0.1."
   ]
  },
  {
   "cell_type": "code",
   "execution_count": 11,
   "metadata": {
    "collapsed": true
   },
   "outputs": [],
   "source": [
    "res_robust = least_squares(fun, x0, loss='soft_l1', f_scale=0.1, args=(t_train, y_train))"
   ]
  },
  {
   "cell_type": "markdown",
   "metadata": {},
   "source": [
    "Define data to plot full curves."
   ]
  },
  {
   "cell_type": "code",
   "execution_count": 12,
   "metadata": {
    "collapsed": true
   },
   "outputs": [],
   "source": [
    "t_test = np.linspace(t_min, t_max, 300)\n",
    "y_test = generate_data(t_test, A, sigma, omega)"
   ]
  },
  {
   "cell_type": "markdown",
   "metadata": {},
   "source": [
    "Compute predictions with found parameters:"
   ]
  },
  {
   "cell_type": "code",
   "execution_count": 13,
   "metadata": {
    "collapsed": true
   },
   "outputs": [],
   "source": [
    "y_lsq = generate_data(t_test, *res_lsq.x)\n",
    "y_robust = generate_data(t_test, *res_robust.x)"
   ]
  },
  {
   "cell_type": "code",
   "execution_count": 14,
   "metadata": {
    "collapsed": false
   },
   "outputs": [
    {
     "data": {
      "text/plain": [
       "<matplotlib.legend.Legend at 0x107031898>"
      ]
     },
     "execution_count": 14,
     "metadata": {},
     "output_type": "execute_result"
    },
    {
     "data": {
      "image/png": "[encoded data removed]",
      "text/plain": [
       "<matplotlib.figure.Figure at 0x106fd7e48>"
      ]
     },
     "metadata": {},
     "output_type": "display_data"
    }
   ],
   "source": [
    "plt.plot(t_train, y_train, 'o', label='data')\n",
    "plt.plot(t_test, y_test, label='true')\n",
    "plt.plot(t_test, y_lsq, label='lsq')\n",
    "plt.plot(t_test, y_robust, label='robust lsq')\n",
    "plt.xlabel('$t$')\n",
    "plt.ylabel('$y$')\n",
    "plt.legend()"
   ]
  },
  {
   "cell_type": "markdown",
   "metadata": {},
   "source": [
    "We clearly see that standard least squares react significantly on outliers and give very biased solution, whereas robust least squares (with soft l1-loss) give the solution very close to the true model."
   ]
  }
 ],
 "metadata": {
  "anaconda-cloud": {},
  "kernelspec": {
   "display_name": "Python 3",
   "language": "python",
   "name": "python3"
  },
  "language_info": {
   "codemirror_mode": {
    "name": "ipython",
    "version": 3
   },
   "file_extension": ".py",
   "mimetype": "text/x-python",
   "name": "python",
   "nbconvert_exporter": "python",
   "pygments_lexer": "ipython3",
   "version": "3.4.3"
  }
 },
 "nbformat": 4,
 "nbformat_minor": 0
}
